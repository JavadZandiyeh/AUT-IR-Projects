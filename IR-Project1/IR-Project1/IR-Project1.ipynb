{
 "cells": [
  {
   "cell_type": "code",
   "execution_count": 1,
   "metadata": {},
   "outputs": [],
   "source": [
    "import json\n",
    "from parsivar import Normalizer, Tokenizer, FindStems\n",
    "from stopwordsiso import stopwords"
   ]
  },
  {
   "cell_type": "code",
   "execution_count": 2,
   "metadata": {},
   "outputs": [],
   "source": [
    "# ---------------------------- preprocessing ----------------------------\n",
    "# normalizer\n",
    "my_normalizer = Normalizer()\n",
    "# tokenizer\n",
    "my_tokenizer = Tokenizer()\n",
    "# stemmer\n",
    "my_stemmer = FindStems()\n",
    "# stop words\n",
    "persian_stopwords = stopwords(\"fa\")"
   ]
  },
  {
   "cell_type": "code",
   "execution_count": 3,
   "metadata": {},
   "outputs": [],
   "source": [
    "# opening JSON file\n",
    "# f = open('IR_data_news_small.json')\n",
    "f = open('IR_data_news_12k.json')\n",
    "# returns JSON object as a dictionary\n",
    "documents = json.load(f)\n",
    "# closing file\n",
    "f.close()"
   ]
  },
  {
   "cell_type": "code",
   "execution_count": 4,
   "metadata": {},
   "outputs": [],
   "source": [
    "positional_index = {}\n",
    "\n",
    "list_stem_stopword_token_normal = []\n",
    "\n",
    "# iterating through the json list\n",
    "for docID in documents:\n",
    "    # normalize\n",
    "    normal = my_normalizer.normalize(documents[docID][\"content\"])\n",
    "    # tokenize\n",
    "    token_normal = my_tokenizer.tokenize_words(normal)\n",
    "    # remove stopwords\n",
    "    stopword_token_normal = [t for t in token_normal if t not in persian_stopwords]\n",
    "    # stemming\n",
    "    stem_stopword_token_normal = [my_stemmer.convert_to_stem(w) for w in stopword_token_normal]\n",
    "    list_stem_stopword_token_normal.append(stem_stopword_token_normal)\n",
    "    \n",
    "    # --------------------------- positional index --------------------------\n",
    "    # creating positional index\n",
    "    docLen = len(stem_stopword_token_normal)\n",
    "    for pos in range(docLen):\n",
    "        term = stem_stopword_token_normal[pos]\n",
    "        if term not in positional_index.keys(): # first visit of this term in all documents\n",
    "            positional_index[term] = {'tot_freq': 1, 'doc_ids': {docID: {'doc_freq': 1, 'positions': [pos]}}}\n",
    "        else:\n",
    "            positional_index[term]['tot_freq'] += 1\n",
    "            if docID not in positional_index[term]['doc_ids'].keys(): # first visit of this term in this document \n",
    "                positional_index[term]['doc_ids'][docID] = {'doc_freq': 1, 'positions': [pos]}\n",
    "            else: # not first visit of this term in this document\n",
    "                positional_index[term]['doc_ids'][docID]['doc_freq'] += 1\n",
    "                positional_index[term]['doc_ids'][docID]['positions'].append(pos)"
   ]
  },
  {
   "cell_type": "code",
   "execution_count": 5,
   "metadata": {},
   "outputs": [],
   "source": [
    "# --------------------------- query processing --------------------------\n",
    "# preprocess query\n",
    "query = input('کوئری خود را وارد کنید: ')\n",
    "query_n = my_normalizer.normalize(query)\n",
    "query_nt = my_tokenizer.tokenize_words(query_n)\n",
    "ps = stopwords(\"fa\")\n",
    "ps.remove('!')\n",
    "query_ntw = [t for t in query_nt if t not in ps]\n",
    "query_ntws = [my_stemmer.convert_to_stem(w) for w in query_ntw]"
   ]
  },
  {
   "cell_type": "code",
   "execution_count": 6,
   "metadata": {},
   "outputs": [
    {
     "name": "stdout",
     "output_type": "stream",
     "text": [
      "[] \n",
      " ['ایران'] \n",
      " ['تحریم', 'آمریکا']\n"
     ]
    }
   ],
   "source": [
    "# extracting all_phrases and all_not_terms and all other terms(query_ntws_copy) from query\n",
    "\n",
    "# make a copy of query\n",
    "query_ntws_copy = query_ntws.copy() \n",
    "\n",
    "# extract phrases in query\n",
    "quotations = [i for i in range(len(query_ntws_copy)) if query_ntws_copy[i] == \"\\\"\"]\n",
    "if len(quotations)%2 == 1: # odd number of quotations\n",
    "    query_ntws_copy.pop(quotations[-1])\n",
    "    quotations.pop()\n",
    "    \n",
    "all_phrases = []\n",
    "all_phrases_positions = []\n",
    "for i in range(0, len(quotations), 2): # save phrases in a list\n",
    "    phrase = query_ntws_copy[quotations[i]+1: quotations[i+1]]\n",
    "    all_phrases.append(phrase)\n",
    "    for j in range(quotations[i], quotations[i+1]+1):\n",
    "        all_phrases_positions.append(j)\n",
    "\n",
    "query_ntws_copy = [query_ntws_copy[i] for i in range(len(query_ntws_copy)) if i not in all_phrases_positions]\n",
    "\n",
    "# extract not terms in query\n",
    "all_not_terms = [query_ntws_copy[i] for i in range(1, len(query_ntws_copy)) if query_ntws_copy[i-1] == \"!\"]\n",
    "\n",
    "all_not_terms_positions = [i for i in range(1, len(query_ntws_copy)) if query_ntws_copy[i-1] == \"!\"]\n",
    "all_not_terms_positions_copy = [i-1 for i in all_not_terms_positions]\n",
    "for i in all_not_terms_positions_copy:\n",
    "    all_not_terms_positions.append(i)\n",
    "\n",
    "query_ntws_copy = [query_ntws_copy[i] for i in range(len(query_ntws_copy)) if i not in all_not_terms_positions]\n",
    "all_terms = query_ntws_copy\n",
    "# delete not required lists\n",
    "del quotations, all_phrases_positions, all_not_terms_positions, all_not_terms_positions_copy, query_ntws_copy\n",
    "\n",
    "print(all_phrases, \"\\n\", all_not_terms, \"\\n\", all_terms)"
   ]
  },
  {
   "cell_type": "code",
   "execution_count": 7,
   "metadata": {},
   "outputs": [],
   "source": [
    "# process and parts\n",
    "def _and(all_terms):\n",
    "    all_terms_docIDs = []\n",
    "    try:\n",
    "        for t in all_terms:\n",
    "            all_terms_docIDs.append(set(positional_index[t]['doc_ids'].keys()))\n",
    "    except:\n",
    "        return None\n",
    "    return set.intersection(*all_terms_docIDs)\n",
    "\n",
    "# process not parts\n",
    "def _not(all_not_terms):\n",
    "    all_not_terms_docIDs = []\n",
    "    for t in all_not_terms:\n",
    "        term_doc_ids = positional_index[t]['doc_ids']\n",
    "        if len(term_doc_ids) != 0:\n",
    "            all_not_terms_docIDs.append(set(term_doc_ids.keys()))\n",
    "    return set(all_not_terms_docIDs[0])\n",
    "\n",
    "def _shift(list_to_be_shift, num_shift):\n",
    "    return set([(i-num_shift) for i in list_to_be_shift])\n",
    "\n",
    "# process phrasal parts\n",
    "def _phrase(all_phrases):\n",
    "    list_of_list_of_docs = []\n",
    "    for phrase in all_phrases:\n",
    "        common_docs = _and(phrase)\n",
    "        if common_docs == None:\n",
    "            return None\n",
    "        list_of_dicts = []\n",
    "        for d in common_docs:\n",
    "            list_of_sets = []\n",
    "            for i in range(len(phrase)):\n",
    "                term = phrase[i]\n",
    "                positions_copy = positional_index[term]['doc_ids'][d]['positions']\n",
    "                list_of_sets.append(_shift(positions_copy, i))\n",
    "            pos_intersection = set.intersection(*list_of_sets)\n",
    "            if len(pos_intersection) != 0:\n",
    "                list_of_dicts.append([d, len(pos_intersection), pos_intersection])\n",
    "        list_of_list_of_docs.append(list_of_dicts)\n",
    "    return list_of_list_of_docs"
   ]
  },
  {
   "cell_type": "code",
   "execution_count": 8,
   "metadata": {},
   "outputs": [],
   "source": [
    "def get_result():\n",
    "    and_terms, not_terms, phrase_part = set(), set(), set()\n",
    "    if len(all_terms) != 0:\n",
    "        and_terms = _and(all_terms)\n",
    "        try:\n",
    "            if len(and_terms) == 0:\n",
    "                return None\n",
    "        except:\n",
    "            return None\n",
    "\n",
    "    if len(all_not_terms) != 0:\n",
    "        not_terms = _not(all_not_terms)\n",
    "        try:\n",
    "            if len(not_terms) == 0:\n",
    "                return None\n",
    "        except:\n",
    "            return None\n",
    "\n",
    "    if len(all_phrases) != 0:\n",
    "        phrase_lists = [] \n",
    "        for phrase in _phrase(all_phrases):\n",
    "            phrase_lists.append(set([doc[0] for doc in phrase]))\n",
    "        phrase_part = set.intersection(*phrase_lists)\n",
    "        try:\n",
    "            if len(phrase_part) == 0:\n",
    "                return None\n",
    "        except:\n",
    "            return None\n",
    "            \n",
    "    if len(and_terms) != 0:\n",
    "        if len(phrase_part) != 0:\n",
    "            return set.intersection(and_terms, phrase_part) - not_terms\n",
    "        else:\n",
    "            return and_terms - not_terms\n",
    "    else:\n",
    "        if len(phrase_part) != 0:\n",
    "            return phrase_part - not_terms\n",
    "        else:\n",
    "            return None"
   ]
  },
  {
   "cell_type": "code",
   "execution_count": 9,
   "metadata": {},
   "outputs": [
    {
     "name": "stdout",
     "output_type": "stream",
     "text": [
      "Query:  تحریم‌های آمریکا ! ایران\n",
      "-----------------------------------------------------\n",
      "\n",
      " Title:  غربی‌ها حقوق زنان را دستاویز مداخله در امور داخلی کشورها کرده‌اند/ تحقیر زن در غرب\n",
      "\n",
      " URL:  https://www.farsnews.ir/news/14000924000307/غربی‌ها-حقوق-زنان-را-دستاویز-مداخله-در-امور-داخلی-کشورها-کرده‌اند-\n",
      "\n",
      " Content: \n",
      "سیاسی داد&ده رویه موجبات ابزاری آمریکا موضوع حقوق‌بشر سطح بین‌المللی تحریم اقتصادی تحمیل فشار سیاسی کشور مستقل فراهم درحالیکه داخل \n",
      "\n",
      "-----------------------------------------------------\n",
      "\n",
      " Title:  نشست خبری جشنواره « روایت حضور» / برگزاری اختتامیه جشنواره در نیمه دی ۱۴۰۰\n",
      "\n",
      " URL:  https://www.farsnews.ir/news/14000927000665/نشست-خبری-جشنواره-روایت-حضور--برگزاری-اختتامیه-جشنواره-در-نیمه-دی\n",
      "\n",
      " Content: \n",
      "سازماندهی راوی جهاد سطح کشور جشنواره دانشجویی رقم خورده افزود&افزا تحریم ضعف مشکلات دولتی غیرهمگرا جهل عمیق نسبت مسئله کرونا \n",
      "\n",
      "-----------------------------------------------------\n",
      "\n",
      " Title:  کم‌توجهی به بیانات رهبر انقلاب در برجام تبعات سنگینی برای کشور داشت\n",
      "\n",
      " URL:  https://www.farsnews.ir/news/14001130000933/کم‌توجهی-به-بیانات-رهبر-انقلاب-در-برجام-تبعات-سنگینی-برای-کشور-داشت\n",
      "\n",
      " Content: \n",
      "چارچوب رهبر انقلاب امتیاز فرا آمریکا داد&ده اشاره لزوم رفع تحریم بیان تاکید کرد&کن توافقی عملی تحریم رفع ارکانی پایان \n",
      "\n",
      "-----------------------------------------------------\n",
      "\n",
      " Title:  تاکتیکی جدید از اصلاح‌طلبان؛ مقصران دیروز، مدعیان امروز\n",
      "\n",
      " URL:  https://www.farsnews.ir/news/14001112001049/تاکتیکی-جدید-از-اصلاح‌طلبان-مقصران-دیروز-مدعیان-امروز\n",
      "\n",
      " Content: \n",
      "سال عمر پر برکت انقلاب اسلامی گذشت&گذر علیرغم دشمنی توطئه تحریم مهم ناکارآمدی دولت مدیرانی رسیدن دامن غرب منافع ملی \n",
      "\n",
      "-----------------------------------------------------\n",
      "\n",
      " Title:  وزیر اطلاعات: دشمن به دنبال بهره‌برداری از اتفاقات اخیر بود\n",
      "\n",
      " URL:  https://www.farsnews.ir/news/14000905000075/وزیر-اطلاعات-دشمن-به-دنبال-بهره‌برداری-از-اتفاقات-اخیر-بود\n",
      "\n",
      " Content: \n",
      "اسلامی خطیب اشاره خروج خفت آمریکا منطقه پیشرفت کشور اوج تحریم صحنه مختلف سربلندی کشور دشمن اعتراف کرد&کن تصریح این‌ها \n",
      "\n",
      "-----------------------------------------------------\n"
     ]
    }
   ],
   "source": [
    "from colorama import Fore\n",
    "\n",
    "def tike_khabar_phrase(docId):\n",
    "    x = positional_index[all_phrases[0][0]]['doc_ids'][str(docId)]['positions'][0]\n",
    "    print('\\n Content: ', )\n",
    "    for i in list_stem_stopword_token_normal[int(docId)][x-10: x+10]:\n",
    "        print(i, end=\" \")\n",
    "    print('\\n')\n",
    "\n",
    "\n",
    "def tike_khabar_term(docId):\n",
    "    x = positional_index[all_terms[0]]['doc_ids'][str(docId)]['positions'][0]\n",
    "    print('\\n Content: ', )\n",
    "    for i in list_stem_stopword_token_normal[int(docId)][x-10: x+10]:\n",
    "        print(i, end=\" \")\n",
    "    print('\\n')\n",
    "\n",
    "print('Query: ', query)\n",
    "print('-----------------------------------------------------')\n",
    "\n",
    "res = get_result()\n",
    "if res == None or len(res) == 0:\n",
    "    print('no result')\n",
    "elif len(res) <= 5:\n",
    "    for docId in res:\n",
    "        print('\\n Title: ', documents[docId]['title'])\n",
    "        print('\\n URL: ', documents[docId]['url'])\n",
    "        \n",
    "        try: tike_khabar_phrase(docId)\n",
    "        except: pass\n",
    "\n",
    "        try: tike_khabar_term(docId)\n",
    "        except: pass\n",
    "        print('-----------------------------------------------------')\n",
    "else:\n",
    "    for docId in list(res)[:5]:\n",
    "        print('\\n Title: ', documents[docId]['title'])\n",
    "        print('\\n URL: ', documents[docId]['url'])\n",
    "        \n",
    "        try: tike_khabar_phrase(docId)\n",
    "        except: pass\n",
    "\n",
    "        try: tike_khabar_term(docId) \n",
    "        except: pass\n",
    "        print('-----------------------------------------------------')"
   ]
  },
  {
   "cell_type": "markdown",
   "metadata": {},
   "source": [
    "Heaop's Law"
   ]
  },
  {
   "cell_type": "code",
   "execution_count": 10,
   "metadata": {},
   "outputs": [],
   "source": [
    "befor_stem = [[], []]\n",
    "after_stem = [[], []]\n",
    "befor_stem_tokens = []\n",
    "after_stem_tokens = []\n",
    "\n",
    "for docID in documents:\n",
    "    if docID in ('500', '1000', '1500', '2000'):\n",
    "        befor_stem[0].append(len(befor_stem_tokens))\n",
    "        befor_stem[1].append(len(set(befor_stem_tokens)))\n",
    "        after_stem[0].append(len(after_stem_tokens))\n",
    "        after_stem[1].append(len(set(after_stem_tokens)))\n",
    "\n",
    "    bef = my_tokenizer.tokenize_words(documents[docID][\"content\"])\n",
    "    befor_stem_tokens.extend(bef)\n",
    "    af = [my_stemmer.convert_to_stem(w) for w in bef]\n",
    "    after_stem_tokens.extend(af)"
   ]
  },
  {
   "cell_type": "code",
   "execution_count": 11,
   "metadata": {},
   "outputs": [
    {
     "name": "stdout",
     "output_type": "stream",
     "text": [
      "(befor stemming)\n",
      "b = 0.5345475740357929 k = 22.3041540772557\n",
      "actual vocab size = 105839\n",
      "predicted vocab size = 81097\n",
      "accuracy=  0.7662298396621283\n",
      "\n",
      "\n",
      "(after stemming)\n",
      "b = 0.516209223836649 k = 23.220813574661733\n",
      "actual vocab size = 87354\n",
      "predicted vocab size = 63730\n",
      "accuracy=  0.7295601804153216\n"
     ]
    }
   ],
   "source": [
    "from math import log10, pow\n",
    "\n",
    "# M = k(T^b) , k = M1 / (T1^b)\n",
    "# M1 = k(T1^b) , M2 = k(T2^b)  --> M1/M2 = (T1/T2)^b --> b = log(M1/M2)/log(T1/T2) = (log(M1) - log(M2)) / (log(T1) - log(T2))\n",
    "\n",
    "# befor stem\n",
    "b_bef = (log10(befor_stem[1][0]) - log10(befor_stem[1][3])) / (log10(befor_stem[0][0]) - log10(befor_stem[0][3]))\n",
    "k_bef = befor_stem[1][0] / pow(befor_stem[0][0], b_bef)\n",
    "\n",
    "# after stem\n",
    "b_af = (log10(after_stem[1][0]) - log10(after_stem[1][3])) / (log10(after_stem[0][0]) - log10(after_stem[0][3]))\n",
    "k_af = after_stem[1][0] / pow(after_stem[0][0], b_af)\n",
    "\n",
    "# befor stemming\n",
    "T_bef = len(befor_stem_tokens)\n",
    "M_bef = int(k_bef * pow(T_bef, b_bef))\n",
    "actual_vocab_size_bef = len(set(befor_stem_tokens))\n",
    "accuracy_bef = M_bef / actual_vocab_size_bef\n",
    "print('(befor stemming)')\n",
    "print('b =', b_bef, 'k =', k_bef)\n",
    "print('actual vocab size =', actual_vocab_size_bef)\n",
    "print('predicted vocab size =', M_bef)\n",
    "print('accuracy= ', accuracy_bef)\n",
    "\n",
    "print('\\n')\n",
    "\n",
    "# after stemming\n",
    "T_af = len(after_stem_tokens)\n",
    "M_af = int(k_af * pow(T_af, b_af))\n",
    "actual_vocab_size_af = len(set(after_stem_tokens))\n",
    "accuracy_af = M_af / actual_vocab_size_af\n",
    "print('(after stemming)')\n",
    "print('b =', b_af, 'k =', k_af)\n",
    "print('actual vocab size =', actual_vocab_size_af)\n",
    "print('predicted vocab size =', M_af)\n",
    "print('accuracy= ', accuracy_af)\n"
   ]
  },
  {
   "cell_type": "code",
   "execution_count": 12,
   "metadata": {},
   "outputs": [
    {
     "data": {
      "image/png": "[encoded data removed]",
      "text/plain": [
       "<Figure size 432x288 with 1 Axes>"
      ]
     },
     "metadata": {
      "needs_background": "light"
     },
     "output_type": "display_data"
    },
    {
     "data": {
      "image/png": "[encoded data removed]",
      "text/plain": [
       "<Figure size 432x288 with 1 Axes>"
      ]
     },
     "metadata": {
      "needs_background": "light"
     },
     "output_type": "display_data"
    }
   ],
   "source": [
    "import matplotlib.pyplot as plt\n",
    "\n",
    "log10_befor_stem = [[log10(i) for i in befor_stem[0]], [log10(i) for i in befor_stem[1]]]\n",
    "log10_after_stem = [[log10(i) for i in after_stem[0]], [log10(i) for i in after_stem[1]]]\n",
    "\n",
    "plt.plot(log10_befor_stem[1], log10_befor_stem[0])\n",
    "plt.title('befor stemming')\n",
    "plt.xlabel('log10 T')\n",
    "plt.ylabel('log10 M')\n",
    "plt.show()\n",
    "\n",
    "plt.plot(log10_after_stem[1], log10_after_stem[0])\n",
    "plt.title('after stemming')\n",
    "plt.xlabel('log10 T')\n",
    "plt.ylabel('log10 M')\n",
    "plt.show()"
   ]
  },
  {
   "cell_type": "markdown",
   "metadata": {},
   "source": [
    "Zip's Law"
   ]
  },
  {
   "cell_type": "code",
   "execution_count": 13,
   "metadata": {},
   "outputs": [],
   "source": [
    "term_freq = {}\n",
    "term_freq_stop = {}\n",
    "\n",
    "for docID in documents:\n",
    "    _tokenized = my_tokenizer.tokenize_words(documents[str(docID)]['content'])\n",
    "    for i in _tokenized:\n",
    "        if i not in term_freq.keys():\n",
    "            term_freq[i] = 1\n",
    "        else:\n",
    "            term_freq[i] +=1\n",
    "    _stop = [t for t in _tokenized if t not in persian_stopwords]\n",
    "    for i in _stop:\n",
    "        if i not in term_freq_stop.keys():\n",
    "            term_freq_stop[i] = 1\n",
    "        else:\n",
    "            term_freq_stop[i] += 1\n",
    "\n",
    "import operator\n",
    "term_freq_1 = sorted(term_freq.items(), key=operator.itemgetter(1),reverse=True)\n",
    "term_freq_stop_1 = sorted(term_freq_stop.items(), key=operator.itemgetter(1),reverse=True)"
   ]
  },
  {
   "cell_type": "code",
   "execution_count": 14,
   "metadata": {},
   "outputs": [
    {
     "data": {
      "image/png": "[encoded data removed]",
      "text/plain": [
       "<Figure size 432x288 with 1 Axes>"
      ]
     },
     "metadata": {
      "needs_background": "light"
     },
     "output_type": "display_data"
    },
    {
     "data": {
      "image/png": "[encoded data removed]",
      "text/plain": [
       "<Figure size 432x288 with 1 Axes>"
      ]
     },
     "metadata": {
      "needs_background": "light"
     },
     "output_type": "display_data"
    }
   ],
   "source": [
    "from math import log10\n",
    "import matplotlib.pyplot as plt\n",
    "\n",
    "# befor removing stop words\n",
    "k_1 = term_freq_1[0][1]\n",
    "zip_1 = [[log10(i+1) for i in range(len(term_freq))], [log10(term_freq_1[n][1]) for n in range(len(term_freq))]]\n",
    "zip_predict_1 = [[log10(i+1) for i in range(len(term_freq))], [log10(k_1/(i+1)) for i in range(len(term_freq))]]\n",
    "\n",
    "plt.plot(zip_1[0], zip_1[1], color='r', label='zipf')\n",
    "plt.plot(zip_predict_1[0], zip_predict_1[1], color='g', label='predict')\n",
    "plt.title('befor removing stopwords')\n",
    "plt.legend()\n",
    "plt.show()\n",
    "\n",
    "# after removing stop words\n",
    "k_stop_1 = term_freq_stop_1[0][1]\n",
    "zip_stop_1 = [[log10(i+1) for i in range(len(term_freq_stop))], [log10(term_freq_stop_1[n][1]) for n in range(len(term_freq_stop))]]\n",
    "zip_stop_predict_1 = [[log10(i+1) for i in range(len(term_freq_stop))], [log10(k_stop_1/(i+1)) for i in range(len(term_freq_stop))]]\n",
    "\n",
    "plt.plot(zip_stop_1[0], zip_stop_1[1], color='r', label='zipf')\n",
    "plt.plot(zip_stop_predict_1[0], zip_stop_predict_1[1], color='g', label='predict')\n",
    "plt.title('after removing stopwords')\n",
    "plt.legend()\n",
    "plt.show()"
   ]
  }
 ],
 "metadata": {
  "kernelspec": {
   "display_name": "Python 3",
   "language": "python",
   "name": "python3"
  },
  "language_info": {
   "codemirror_mode": {
    "name": "ipython",
    "version": 3
   },
   "file_extension": ".py",
   "mimetype": "text/x-python",
   "name": "python",
   "nbconvert_exporter": "python",
   "pygments_lexer": "ipython3",
   "version": "3.8.6"
  }
 },
 "nbformat": 4,
 "nbformat_minor": 4
}
